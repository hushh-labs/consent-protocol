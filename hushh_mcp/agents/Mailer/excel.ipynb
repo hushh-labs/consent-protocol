{
 "cells": [
  {
   "cell_type": "code",
   "execution_count": null,
   "id": "a5832df7",
   "metadata": {},
   "outputs": [],
   "source": [
    "from typing import Annotated\n",
    "from typing_extensions import TypedDict\n",
    "\n",
    "class AgentState(TypedDict):\n",
    "    user_input: Annotated[str,lambda old,new:new]\n",
    "    email_template: Annotated[str, lambda old, new: new]\n",
    "    user_feedback: Annotated[str,lambda old,new:new]\n",
    "    approved: Annotated[bool,lambda old,new:new]"
   ]
  },
  {
   "cell_type": "code",
   "execution_count": 2,
   "id": "dd3d8565",
   "metadata": {},
   "outputs": [],
   "source": [
    "from  langgraph.graph import StateGraph,START,END\n",
    "from langchain_ollama import ChatOllama\n",
    "\n",
    "llm = ChatOllama(model=\"llama3-groq-tool-use\")\n",
    "graph_builder = StateGraph(AgentState)\n",
    "\n",
    "def draft_content(state:AgentState):\n",
    "    if(state['user_feedback']):\n",
    "        prompt = f\"\"\"\n",
    "        Here is the current email template:\n",
    "        ---\n",
    "        {state['email_template']}\n",
    "        ---\n",
    "        Update it based on this feedback:\n",
    "        \"{state['user_feedback']}\"\n",
    "        Remeber-\n",
    "        1. Only write the message and no need to write subject.\n",
    "        2. Dont write any thing else like updating or here is your email.\n",
    "        3. Dont not add any of yours comments\n",
    "        \"\"\"\n",
    "    else:\n",
    "         prompt = f\"\"\"\n",
    "        Write a professional email based on this input:\n",
    "        \"{state['user_input']}\"\n",
    "\n",
    "        Use placeholders like {{name}}, {{email}}, {{company_name}} where needed.\n",
    "        Remeber-\n",
    "        1. Only write the message and no need to write subject.\n",
    "        2. Dont write any thing else like updating or here is your email.\n",
    "        3. Dont not add any of yours comments\n",
    "        \"\"\"\n",
    "    response = llm.invoke(prompt)\n",
    "    return {\"email_template\": response.content}"
   ]
  },
  {
   "cell_type": "code",
   "execution_count": null,
   "id": "0973ee6f",
   "metadata": {},
   "outputs": [],
   "source": [
    "def get_feedback(state:AgentState):\n",
    "    print(\"\\n📨 Draft Email:\\n\")\n",
    "    print(state[\"email_template\"])\n",
    "    print(\"\\n---\")\n",
    "    user_input = input(\"Approve this email? (yes or give feedback): \")\n",
    "    if user_input.lower() in [\"yes\", \"approve\", \"approved\", \"y\"]:\n",
    "        return {\"approved\": True}\n",
    "    else:\n",
    "        return {\n",
    "            \"user_feedback\": user_input,\n",
    "            \"approved\": False\n",
    "        }"
   ]
  },
  {
   "cell_type": "code",
   "execution_count": 4,
   "id": "6d0249ac",
   "metadata": {},
   "outputs": [],
   "source": [
    "import os\n",
    "from dotenv import load_dotenv\n",
    "load_dotenv()\n",
    "from mailjet_rest import Client"
   ]
  },
  {
   "cell_type": "code",
   "execution_count": 5,
   "id": "376fa7f6",
   "metadata": {},
   "outputs": [],
   "source": [
    "import base64\n",
    "\n",
    "def get_attachment(path):\n",
    "    with open(path, \"rb\") as file:\n",
    "        file_data = file.read()\n",
    "        encoded = base64.b64encode(file_data).decode()\n",
    "        return {\n",
    "            \"ContentType\": \"application/pdf\",  # Change this based on file type\n",
    "            \"Filename\": path.split(\"/\")[-1],\n",
    "            \"Base64Content\": encoded\n",
    "        }"
   ]
  },
  {
   "cell_type": "code",
   "execution_count": null,
   "id": "0999ee23",
   "metadata": {},
   "outputs": [],
   "source": [
    "def send_email_via_mailjet(to_email, to_name, subject, content, from_email=\"dragnoid121@gmail.com\", from_name=\"AAK\",attachment=None):\n",
    "    api_key = os.getenv(\"MJ_APIKEY_PUBLIC\")\n",
    "    secret_key = os.getenv(\"MJ_APIKEY_PRIVATE\")\n",
    "    mailjet = Client(auth=(\"cca56ed08f5272f813370d7fc5a34a24\", \"60fb43675233e2ac775f1c6cb8fe455c\"), version='v3.1')\n",
    "    message_data = {\n",
    "        \"From\": {\"Email\": from_email, \"Name\": from_name},\n",
    "        \"To\": [{\"Email\": to_email, \"Name\": to_name}],\n",
    "        \"Subject\": \"hi\",\n",
    "        \"TextPart\": content,\n",
    "        \"HTMLPart\": f\"<pre>{content}</pre>\"\n",
    "    }\n",
    "\n",
    "    if attachment:\n",
    "        message_data[\"Attachments\"] = [attachment]\n",
    "\n",
    "    data = {\"Messages\": [message_data]}\n",
    "    try:\n",
    "        result = mailjet.send.create(data=data)\n",
    "        print(\"Sent:\", result.status_code, result.json())\n",
    "        return result\n",
    "    except Exception as e:\n",
    "        print(\"❌ Error sending email:\", e)\n",
    "    \n"
   ]
  },
  {
   "cell_type": "code",
   "execution_count": null,
   "id": "24ab6704",
   "metadata": {},
   "outputs": [],
   "source": [
    "import pandas as pd \n",
    "def send_emails(state: AgentState):\n",
    "    user_confirmation = input(\"Are u sure you want to send the emails: Y or N\")\n",
    "    if(user_confirmation == \"N\"):\n",
    "        return \n",
    "    else:\n",
    "        template = state[\"email_template\"]\n",
    "        # attachment = get_attachment(\"brochure.pdf\")  # Or docx, image, etc.\n",
    "\n",
    "        df = pd.read_excel(\"C:/Users/Asus/AutoIntern/email.xlsx\")\n",
    "        for i, row in df.iterrows():\n",
    "            content = template.format(\n",
    "                name=row[\"name\"],\n",
    "                email=row[\"email\"],\n",
    "                company_name=row[\"company_name\"]\n",
    "            )\n",
    "            result = send_email_via_mailjet(\n",
    "                to_email=row[\"email\"],\n",
    "                to_name=row[\"name\"],\n",
    "                subject=\"Welcome to the Team!\",\n",
    "                content=content\n",
    "                # attachment=attachment\n",
    "            )\n",
    "            df.at[i, 'Status'] = result.status_code\n",
    "        df.to_excel(\"email_status.xlsx\",index=False)\n",
    "        \n",
    "        return {}\n"
   ]
  },
  {
   "cell_type": "code",
   "execution_count": 8,
   "id": "bc123270",
   "metadata": {},
   "outputs": [],
   "source": [
    "def route_tools(state:AgentState):\n",
    "    if(state['approved']):\n",
    "        return \"send_emails\"\n",
    "    else:\n",
    "        return \"llm_writer\""
   ]
  },
  {
   "cell_type": "code",
   "execution_count": 9,
   "id": "b08e3556",
   "metadata": {},
   "outputs": [],
   "source": [
    "from langgraph.graph import StateGraph,START,END\n",
    "\n",
    "graph_builder = StateGraph(AgentState)\n",
    "graph_builder.add_node(\"llm_writer\",draft_content)\n",
    "graph_builder.add_node(\"get_feedback\",get_feedback)\n",
    "graph_builder.add_node(\"send_emails\",send_emails)\n",
    "\n",
    "graph_builder.add_edge(START,\"llm_writer\")\n",
    "graph_builder.add_edge(\"llm_writer\",\"get_feedback\")\n",
    "graph_builder.add_conditional_edges(\"get_feedback\",route_tools)\n",
    "graph_builder.add_edge(\"send_emails\",END)\n",
    "\n",
    "graph = graph_builder.compile()"
   ]
  },
  {
   "cell_type": "code",
   "execution_count": 10,
   "id": "7c9d76c5",
   "metadata": {},
   "outputs": [],
   "source": [
    "def run_agent(user_input: str):\n",
    "    initial_state = {\n",
    "        \"user_input\": user_input,\n",
    "        \"email_template\": \"\",\n",
    "        \"user_feedback\": \"\",\n",
    "        \"approved\": False\n",
    "    }\n",
    "\n",
    "    final_state = graph.invoke(initial_state)\n",
    "    print(\"\\n✅ Agent Finished.\")"
   ]
  },
  {
   "cell_type": "code",
   "execution_count": null,
   "id": "0b322029",
   "metadata": {},
   "outputs": [
    {
     "name": "stdout",
     "output_type": "stream",
     "text": [
      "\n",
      "📨 Draft Email:\n",
      "\n",
      "Here is the professional email:\n",
      "\n",
      "\"Dear {name},\n",
      "\n",
      "I am thrilled to welcome you to {company_name} as an intern next week! We are excited to have you join our team and contribute your skills.\n",
      "\n",
      "Please find attached all the necessary information and documents you need to get started. If you have any questions or need further assistance, feel free to reach out to us at {email}.\n",
      "\n",
      "Looking forward to seeing you soon!\n",
      "\n",
      "Best regards,\"\n",
      "\n",
      "---\n",
      "\n",
      "📨 Draft Email:\n",
      "\n",
      "Here's a professional welcome email:\n",
      "\n",
      "Dear {name},\n",
      "\n",
      "On behalf of {company_name}, I am thrilled to welcome you to our team! We are excited to have you join us next week.\n",
      "\n",
      "Please find attached a detailed schedule and orientation plan for your first week. If you have any questions or need assistance, feel free to reach out to us at {email}.\n",
      "\n",
      "Looking forward to seeing you soon!\n",
      "\n",
      "Best regards,\n",
      "[Your Name]\n",
      "\n",
      "---\n",
      "Sent: 200 {'Messages': [{'Status': 'success', 'CustomID': '', 'To': [{'Email': 'alokkale121@gmail.com', 'MessageUUID': '5d36fa3a-a13b-4154-ac7e-b98684dbfcd3', 'MessageID': 288230407587718840, 'MessageHref': 'https://api.mailjet.com/v3/REST/message/288230407587718840'}], 'Cc': [], 'Bcc': []}]}\n",
      "Sent: 200 {'Messages': [{'Status': 'success', 'CustomID': '', 'To': [{'Email': 'dragnoid121@gmail.com', 'MessageUUID': '4d2ebb2c-ebf8-4a94-a2cf-49ed2c76700b', 'MessageID': 288230407587719053, 'MessageHref': 'https://api.mailjet.com/v3/REST/message/288230407587719053'}], 'Cc': [], 'Bcc': []}]}\n",
      "\n",
      "✅ Agent Finished.\n"
     ]
    }
   ],
   "source": [
    "run_agent(\"I want to send a welcome email to all the interns joining next week,emails are mentioned in the excel.\")"
   ]
  },
  {
   "cell_type": "code",
   "execution_count": null,
   "id": "2645e9dd",
   "metadata": {},
   "outputs": [],
   "source": []
  }
 ],
 "metadata": {
  "kernelspec": {
   "display_name": "cenv",
   "language": "python",
   "name": "python3"
  },
  "language_info": {
   "codemirror_mode": {
    "name": "ipython",
    "version": 3
   },
   "file_extension": ".py",
   "mimetype": "text/x-python",
   "name": "python",
   "nbconvert_exporter": "python",
   "pygments_lexer": "ipython3",
   "version": "3.11.13"
  }
 },
 "nbformat": 4,
 "nbformat_minor": 5
}
