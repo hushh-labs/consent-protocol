{
 "cells": [
  {
   "cell_type": "code",
   "execution_count": 2,
   "id": "2f1f7cf3",
   "metadata": {},
   "outputs": [
    {
     "name": "stdout",
     "output_type": "stream",
     "text": [
      "Requirement already satisfied: mailjet-rest in c:\\users\\asus\\autointern\\.venv\\lib\\site-packages (1.4.0)\n",
      "Requirement already satisfied: requests>=2.32.3 in c:\\users\\asus\\autointern\\.venv\\lib\\site-packages (from mailjet-rest) (2.32.4)\n",
      "Requirement already satisfied: charset_normalizer<4,>=2 in c:\\users\\asus\\autointern\\.venv\\lib\\site-packages (from requests>=2.32.3->mailjet-rest) (3.4.2)\n",
      "Requirement already satisfied: idna<4,>=2.5 in c:\\users\\asus\\autointern\\.venv\\lib\\site-packages (from requests>=2.32.3->mailjet-rest) (3.10)\n",
      "Requirement already satisfied: urllib3<3,>=1.21.1 in c:\\users\\asus\\autointern\\.venv\\lib\\site-packages (from requests>=2.32.3->mailjet-rest) (2.5.0)\n",
      "Requirement already satisfied: certifi>=2017.4.17 in c:\\users\\asus\\autointern\\.venv\\lib\\site-packages (from requests>=2.32.3->mailjet-rest) (2025.6.15)\n",
      "Collecting dotenv\n",
      "  Downloading dotenv-0.9.9-py2.py3-none-any.whl.metadata (279 bytes)\n",
      "Collecting python-dotenv (from dotenv)\n",
      "  Using cached python_dotenv-1.1.1-py3-none-any.whl.metadata (24 kB)\n",
      "Downloading dotenv-0.9.9-py2.py3-none-any.whl (1.9 kB)\n",
      "Using cached python_dotenv-1.1.1-py3-none-any.whl (20 kB)\n",
      "Installing collected packages: python-dotenv, dotenv\n",
      "\n",
      "   ---------------------------------------- 2/2 [dotenv]\n",
      "\n",
      "Successfully installed dotenv-0.9.9 python-dotenv-1.1.1\n"
     ]
    }
   ],
   "source": [
    "!pip install mailjet-rest\n",
    "!pip install dotenv"
   ]
  },
  {
   "cell_type": "code",
   "execution_count": 2,
   "id": "2bf91df2",
   "metadata": {},
   "outputs": [
    {
     "data": {
      "text/plain": [
       "True"
      ]
     },
     "execution_count": 2,
     "metadata": {},
     "output_type": "execute_result"
    }
   ],
   "source": [
    "import os\n",
    "from dotenv import load_dotenv\n",
    "load_dotenv()"
   ]
  },
  {
   "cell_type": "code",
   "execution_count": 3,
   "id": "0dadbfc2",
   "metadata": {},
   "outputs": [],
   "source": [
    "from mailjet_rest import Client"
   ]
  },
  {
   "cell_type": "code",
   "execution_count": 4,
   "id": "46521e3c",
   "metadata": {},
   "outputs": [],
   "source": [
    "def send_email_via_mailjet(to_email, to_name, subject, content, from_email=\"dragnoid121@gmail.com\", from_name=\"AAK\",attachment=None):\n",
    "    api_key = os.getenv(\"MJ_APIKEY_PUBLIC\")\n",
    "    secret_key = os.getenv(\"MJ_APIKEY_PRIVATE\")\n",
    "    mailjet = Client(auth=(\"cca56ed08f5272f813370d7fc5a34a24\", \"60fb43675233e2ac775f1c6cb8fe455c\"), version='v3.1')\n",
    "    message_data = {\n",
    "        \"From\": {\"Email\": from_email, \"Name\": from_name},\n",
    "        \"To\": [{\"Email\": to_email, \"Name\": to_name}],\n",
    "        \"Subject\": subject,\n",
    "        \"TextPart\": content,\n",
    "        \"HTMLPart\": f\"<pre>{content}</pre>\"\n",
    "    }\n",
    "\n",
    "    if attachment:\n",
    "        message_data[\"Attachments\"] = [attachment]\n",
    "\n",
    "    data = {\"Messages\": [message_data]}\n",
    "    result = mailjet.send.create(data=data)\n",
    "    return result\n"
   ]
  },
  {
   "cell_type": "code",
   "execution_count": 5,
   "id": "0507d737",
   "metadata": {},
   "outputs": [],
   "source": [
    "import base64\n",
    "\n",
    "def get_attachment(path):\n",
    "    with open(path, \"rb\") as file:\n",
    "        file_data = file.read()\n",
    "        encoded = base64.b64encode(file_data).decode()\n",
    "        return {\n",
    "            \"ContentType\": \"application/pdf\",  # Change this based on file type\n",
    "            \"Filename\": path.split(\"/\")[-1],\n",
    "            \"Base64Content\": encoded\n",
    "        }"
   ]
  },
  {
   "cell_type": "code",
   "execution_count": null,
   "id": "01eabdf3",
   "metadata": {},
   "outputs": [],
   "source": []
  }
 ],
 "metadata": {
  "kernelspec": {
   "display_name": ".venv",
   "language": "python",
   "name": "python3"
  },
  "language_info": {
   "codemirror_mode": {
    "name": "ipython",
    "version": 3
   },
   "file_extension": ".py",
   "mimetype": "text/x-python",
   "name": "python",
   "nbconvert_exporter": "python",
   "pygments_lexer": "ipython3",
   "version": "3.13.4"
  }
 },
 "nbformat": 4,
 "nbformat_minor": 5
}
